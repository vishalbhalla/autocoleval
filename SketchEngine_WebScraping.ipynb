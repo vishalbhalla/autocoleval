{
 "cells": [
  {
   "cell_type": "markdown",
   "metadata": {},
   "source": [
    "## Web Scraping - Sketch Engine"
   ]
  },
  {
   "cell_type": "code",
   "execution_count": 1,
   "metadata": {},
   "outputs": [],
   "source": [
    "from bs4 import BeautifulSoup, NavigableString\n",
    "# from urllib2 import urlopen\n",
    "from urllib.request import urlopen\n",
    "import os\n",
    "\n",
    "import requests\n",
    "from lxml import html\n",
    "\n",
    "import json\n",
    "import pandas as pd\n",
    "\n",
    "import time\n",
    "from time import gmtime, strftime"
   ]
  },
  {
   "cell_type": "code",
   "execution_count": 2,
   "metadata": {},
   "outputs": [],
   "source": [
    "def getSketchEngineCollocations(lemma, posTag, colType):\n",
    "\n",
    "    lstSketchEngineCols = []\n",
    "    # URL to get the requests\n",
    "    startUrl = 'https://the.sketchengine.co.uk/bonito/corpus/wsketch?lemma='\n",
    "    lempos = '&lpos=-' \n",
    "    endUrl = '&minfreq=auto&minscore=0&maxitems=1000&clustercolls=0&minsim=0.15&sort_gramrels=1&sort_ws_columns=s&corpname=preloaded%2Fbawe2&format=json'\n",
    "\n",
    "    requestUrl = startUrl + lemma + lempos + posTag + endUrl\n",
    "\n",
    "    # Login credentials\n",
    "    payload = { 'username' : 'api_testing', 'pass': 'YNSC0B9OXN57XB48T9HWUFFLPY4TZ6OE'}\n",
    "\n",
    "    ### Login and set Context\n",
    "    with requests.Session() as session:\n",
    "    #     r = session.post('https://the.sketchengine.co.uk/bonito/corpus/wsketch?lemma=switch&lpos=-V&minfreq=auto&minscore=0&maxitems=12&clustercolls=0&minsim=0.15&sort_gramrels=1&sort_ws_columns=s&corpname=preloaded%2Fbnc2_tt21&format=json', data=payload)\n",
    "    #     r = session.post('https://the.sketchengine.co.uk/bonito/corpus/wsketch?lemma=switch&lpos=-V&minfreq=auto&minscore=0&maxitems=12&clustercolls=0&minsim=0.15&sort_gramrels=1&sort_ws_columns=s&corpname=preloaded%2Fbawe2&format=json', data=payload)\n",
    "        \n",
    "#         r = session.post('https://the.sketchengine.co.uk/login', data=payload)\n",
    "#         r = session.get(requestUrl)\n",
    "        \n",
    "        r = session.post(requestUrl, data=payload)\n",
    "        respObj = r.json()\n",
    "\n",
    "        for key, value in respObj.items():\n",
    "            if key == 'Gramrels':\n",
    "                for dictGramrels in respObj[key]:\n",
    "                    if dictGramrels['name'] == colType:\n",
    "#                         print('Headword, Headword_Lempos, Collocateword, Collocateword_Lempos, Collocateword_Filterwords, Count, Score')\n",
    "                        for item in (dictGramrels['Words']):\n",
    "                            lstSketchEngineCols.append((lemma, lemma + '-' + posTag, item['word'], item['lempos'], item['filterwords'], item['count'], item['score']))\n",
    "\n",
    "    return lstSketchEngineCols"
   ]
  },
  {
   "cell_type": "code",
   "execution_count": 3,
   "metadata": {},
   "outputs": [
    {
     "name": "stdout",
     "output_type": "stream",
     "text": [
      "D:\\Education\\vocabexpert\\acl_bea_paper\\eval\\reference\n"
     ]
    },
    {
     "data": {
      "text/plain": [
       "'D:\\\\Education\\\\vocabexpert\\\\acl_bea_paper\\\\eval\\\\reference'"
      ]
     },
     "execution_count": 3,
     "metadata": {},
     "output_type": "execute_result"
    }
   ],
   "source": [
    "# Change path to the folder where all collocation data files will be stored\n",
    "colFolder = r'D:\\Education\\vocabexpert\\emnlp_paper\\eval\\collocations\\sketchengine' \n",
    "\n",
    "# Change path to the folder where all reference files are stored. \n",
    "# Basically, this folder should then have 2 folders of 'se_flax' and 'elia' which contain the reference files.\n",
    "%cd D:\\Education\\vocabexpert\\acl_bea_paper\\eval\\reference\n",
    "%pwd"
   ]
  },
  {
   "cell_type": "code",
   "execution_count": 4,
   "metadata": {},
   "outputs": [],
   "source": [
    "def getWordList(wordListCSVFile):\n",
    "    colNameWord = 'Headword'\n",
    "    colNamePOS = 'POS'\n",
    "    df = pd.read_csv(wordListCSVFile)\n",
    "    \n",
    "    words = df[colNameWord].tolist()\n",
    "    posTags = df[colNamePOS].tolist()\n",
    "    \n",
    "    wordList = list(zip(words, posTags))\n",
    "    \n",
    "    wordList = list(set(wordList))\n",
    "    \n",
    "    wordList = sorted(wordList)\n",
    "    \n",
    "    return wordList"
   ]
  },
  {
   "cell_type": "code",
   "execution_count": 5,
   "metadata": {},
   "outputs": [],
   "source": [
    "lstRefColTypesFileNames = ['n1_n2', 'n2_n1', 'n2_v1', 'n2_adj1', 'v1_n2', 'v1_adj2', 'v1_adv2', \n",
    "                           'v2_adv1', 'adj1_n2', 'adj2_v1', 'adj2_adv1']\n",
    "lstRefColTypesSE = ['modifies', 'modifier', 'object_of', 'modifier', 'object', 'adj_comp', 'modifier', \n",
    "                    'modifier', 'modifies', 'adj_comp_of', 'modifier']"
   ]
  },
  {
   "cell_type": "code",
   "execution_count": 6,
   "metadata": {},
   "outputs": [
    {
     "name": "stdout",
     "output_type": "stream",
     "text": [
      "2018-05-18 17:32:19\n",
      "v1_adj2 :  8\n",
      "('become', 'v')\n",
      "('consider', 'v')\n",
      "('deem', 'v')\n",
      "('get', 'v')\n",
      "('make', 'v')\n",
      "('prove', 'v')\n",
      "('remain', 'v')\n",
      "('seem', 'v')\n",
      "2018-05-18 17:45:49\n"
     ]
    }
   ],
   "source": [
    "print(strftime(\"%Y-%m-%d %H:%M:%S\", gmtime()))\n",
    "\n",
    "for i in range(11): # Use time delay (sleep) as there is a limit on the number of hits.\n",
    "#     i = 5\n",
    "\n",
    "    colTypeFileName = lstRefColTypesFileNames[i]\n",
    "    colType = lstRefColTypesSE[i]\n",
    "    \n",
    "    wordListCSVFile = './se_flax/ACL - Reference set - ' + colTypeFileName + '.csv'\n",
    "    lstWords = getWordList(wordListCSVFile) #Read from word list\n",
    "    print(colTypeFileName + ' : ' , str(len(lstWords)))\n",
    "    \n",
    "    colSketchEngine = os.path.join(colFolder, colTypeFileName)\n",
    "    \n",
    "    for word in lstWords:\n",
    "        print(word)\n",
    "        lemma = word[0].lower()\n",
    "        posTag = word[1].capitalize()\n",
    "        if posTag == 'Adj':\n",
    "            posTag = 'J'\n",
    "        \n",
    "        time.sleep(100)\n",
    "        lstSketchEngineCols = getSketchEngineCollocations(lemma, posTag, colType)\n",
    "\n",
    "        if len(lstSketchEngineCols) != 0:\n",
    "            # Store the file            \n",
    "            final_directory = colSketchEngine\n",
    "            if not os.path.exists(final_directory):\n",
    "                os.makedirs(final_directory)\n",
    "            fname = final_directory + '/' + lemma + '_' + posTag + '_' + colTypeFileName + '+' + colType\n",
    "\n",
    "            fname += '.csv'\n",
    "            \n",
    "            headers = ['HeadWord', 'Headword_Lempos', 'CollocateWord', 'CollocateWord_Lempos',  'Collocateword_Filterwords', 'Count', 'Score']\n",
    "            df = pd.DataFrame(lstSketchEngineCols, columns=headers)\n",
    "            df.to_csv(fname, index=False)\n",
    "\n",
    "        else:\n",
    "            print('This word doesnt have any collocation type generated! - ' + str(i) + ' ' + lemma + '_' + posTag + '_' + colTypeFileName + '+' + colType)\n",
    "\n",
    "\n",
    "print(strftime(\"%Y-%m-%d %H:%M:%S\", gmtime()))"
   ]
  },
  {
   "cell_type": "code",
   "execution_count": null,
   "metadata": {},
   "outputs": [],
   "source": []
  }
 ],
 "metadata": {
  "kernelspec": {
   "display_name": "Python 3",
   "language": "python",
   "name": "python3"
  },
  "language_info": {
   "codemirror_mode": {
    "name": "ipython",
    "version": 3
   },
   "file_extension": ".py",
   "mimetype": "text/x-python",
   "name": "python",
   "nbconvert_exporter": "python",
   "pygments_lexer": "ipython3",
   "version": "3.6.4"
  }
 },
 "nbformat": 4,
 "nbformat_minor": 2
}
