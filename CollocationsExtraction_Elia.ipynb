{
 "cells": [
  {
   "cell_type": "markdown",
   "metadata": {},
   "source": [
    "# Extracting Collocations for ELIA using Dependency Parsing"
   ]
  },
  {
   "cell_type": "markdown",
   "metadata": {},
   "source": [
    "### Import dependencies"
   ]
  },
  {
   "cell_type": "code",
   "execution_count": 1,
   "metadata": {},
   "outputs": [],
   "source": [
    "import os\n",
    "import pickle\n",
    "from time import gmtime, strftime\n",
    "import os.path\n",
    "import shutil\n",
    "import pandas as pd"
   ]
  },
  {
   "cell_type": "markdown",
   "metadata": {},
   "source": [
    "### Load Corpus"
   ]
  },
  {
   "cell_type": "code",
   "execution_count": 2,
   "metadata": {},
   "outputs": [
    {
     "name": "stdout",
     "output_type": "stream",
     "text": [
      "D:\\Education\\vocabexpert\\acl_bea_paper\\eval\n"
     ]
    },
    {
     "data": {
      "text/plain": [
       "'D:\\\\Education\\\\vocabexpert\\\\acl_bea_paper\\\\eval'"
      ]
     },
     "execution_count": 2,
     "metadata": {},
     "output_type": "execute_result"
    }
   ],
   "source": [
    "# In this cell, one needs to change the following variables\n",
    "# 1. colFolder\n",
    "# 2. The path following the %cd command\n",
    "\n",
    "# Location of the Ranked Collocates .csv files\n",
    "colDataFolder = r'D:\\Education\\vocabexpert\\elia_collocations\\elia_db'\n",
    "\n",
    "# Location of the Evaluation Results .csv files\n",
    "colEvalFolder = r'D:\\Education\\vocabexpert\\elia_collocations\\elia_eval'\n",
    "\n",
    "# Change path to the folder where the reference files are stored\n",
    "%cd D:\\Education\\vocabexpert\\acl_bea_paper\\eval\n",
    "%pwd\n",
    "\n",
    "# Note: The folder where all the data files are stored should also contain a folder called 'reference'.\n",
    "# Basically, this folder should then have 2 folders of 'se_flax' and 'elia' which contain the reference files."
   ]
  },
  {
   "cell_type": "markdown",
   "metadata": {},
   "source": [
    "### Functions"
   ]
  },
  {
   "cell_type": "code",
   "execution_count": 3,
   "metadata": {},
   "outputs": [],
   "source": [
    "def chkPOSTagColType(colType, word):\n",
    "    if word[1] =='NN' and 'NOUN' in colType: # NOUN + VERB', 'NOUN + NOUN', 'NOUN + PREP', \n",
    "        return True #'PREP + NOUN', 'ADJ + NOUN', 'DET + NOUN', 'VERB + NOUN'\n",
    "        \n",
    "    elif word[1] == 'VB' and 'VERB' in colType: # 'NOUN + VERB', 'VERB + NOUN', 'VERB + ADJ', \n",
    "        return True #'VERB + PREP', 'VERB + VERB', 'VERB + ADV', 'ADV + to VERB', 'ADJ + to VERB'\n",
    "    \n",
    "    elif word[1] == 'JJ' and 'ADJ' in colType: # 'ADJ + NOUN', 'VERB + ADJ', 'ADJ + to VERB', 'ADJ + PREP', 'ADV + ADJ'\n",
    "        return True\n",
    "        \n",
    "    elif word[1] == 'RB' and 'ADV' in colType: # ''VERB + ADV', 'ADV + to VERB', 'ADV + ADJ']\n",
    "        return True\n",
    "    \n",
    "    else:\n",
    "        return False"
   ]
  },
  {
   "cell_type": "code",
   "execution_count": 4,
   "metadata": {},
   "outputs": [],
   "source": [
    "def getWordList(wordListCSVFile):\n",
    "    colNameWord = 'Headword'\n",
    "    colNamePOS = 'POS'\n",
    "    df = pd.read_csv(wordListCSVFile)\n",
    "    \n",
    "    words = df[colNameWord].tolist()\n",
    "    posTags = df[colNamePOS].tolist()\n",
    "    \n",
    "    wordList = list(zip(words, posTags))\n",
    "    \n",
    "    wordList = list(set(wordList))\n",
    "    \n",
    "    wordList = sorted(wordList)\n",
    "    \n",
    "    return wordList"
   ]
  },
  {
   "cell_type": "code",
   "execution_count": 5,
   "metadata": {},
   "outputs": [],
   "source": [
    "lstRefColTypesFileNames = ['n1_n2', 'n2_n1', 'n2_v1', 'n2_adj1', 'v1_n2', 'v1_adj2', 'v1_adv2', \n",
    "                           'v2_adv1', 'adj1_n2', 'adj2_v1', 'adj2_adv1']\n",
    "lstRefColTypesElia = ['NOUN + NOUN', 'NOUN + NOUN', 'VERB + NOUN', 'ADJ + NOUN', 'VERB + NOUN', 'VERB + ADJ', 'VERB + ADV', \n",
    "                      'VERB + ADV', 'ADJ + NOUN', 'VERB + ADJ', 'ADV + ADJ']"
   ]
  },
  {
   "cell_type": "code",
   "execution_count": 15,
   "metadata": {
    "scrolled": true
   },
   "outputs": [
    {
     "name": "stdout",
     "output_type": "stream",
     "text": [
      "2018-05-21 15:06:16\n",
      "v1_adj2 :  8\n",
      "('become', 'v')\n",
      "('consider', 'v')\n",
      "('deem', 'v')\n",
      "('get', 'v')\n",
      "('make', 'v')\n",
      "('prove', 'v')\n",
      "('remain', 'v')\n",
      "('seem', 'v')\n",
      "2018-05-21 15:06:16\n"
     ]
    }
   ],
   "source": [
    "print(strftime(\"%Y-%m-%d %H:%M:%S\", gmtime()))\n",
    "\n",
    "for i in range(11):\n",
    "#     i = 5\n",
    "    colTypeFileName = lstRefColTypesFileNames[i]\n",
    "    colType = lstRefColTypesElia[i]\n",
    "    \n",
    "    wordListCSVFile = './reference/elia/ACL - Reference set - ' + colTypeFileName + '.csv'\n",
    "    lstEvalWords = getWordList(wordListCSVFile) #Read from word list\n",
    "    print(colTypeFileName + ' : ' , str(len(lstEvalWords)))\n",
    "    \n",
    "    colEliaData = os.path.join(colDataFolder, colType)\n",
    "    colEliaEval = os.path.join(colEvalFolder, colTypeFileName)\n",
    "    \n",
    "    for word in lstEvalWords:\n",
    "        print(word)\n",
    "        lemma = word[0].lower()        \n",
    "        posTag = word[1].capitalize()\n",
    "        if posTag == 'Adj':\n",
    "            posTag = 'JJ'\n",
    "        elif posTag == 'Adv':\n",
    "            posTag = 'RB'\n",
    "        elif posTag == 'N':\n",
    "            posTag = 'NN'\n",
    "        elif posTag == 'V':\n",
    "            posTag = 'VB'\n",
    "            \n",
    "        if posTag == 'Jj':\n",
    "            posTag ='JJ'\n",
    "            \n",
    "        formattedWord = (lemma, posTag)\n",
    "        if chkPOSTagColType(colType, formattedWord): # Check if the collocation type is valid for that word\n",
    "            \n",
    "            # Find the file, rename it and move it to the folder location for evaluation\n",
    "            if os.path.exists(colEliaData):\n",
    "                oldFname = colEliaData + '/' + lemma + '_' + posTag + '_' + colType + '.csv'\n",
    "\n",
    "                if os.path.isfile(oldFname):\n",
    "                    newFname = colEliaEval + '/' + lemma + '_' + posTag + '_' + colTypeFileName + '+' + colType + '.csv'\n",
    "                    if not os.path.exists(colEliaEval):\n",
    "                        os.makedirs(colEliaEval)\n",
    "                    shutil.copy(oldFname, newFname)\n",
    "                        \n",
    "                else:\n",
    "                    print('This word doesnt have any collocation file generated! - ' + str(i) + ' ' + lemma + '_' + posTag + '_' + colTypeFileName + '+' + colType)\n",
    "            else:\n",
    "                print('colEliaData folder doesnot exist')\n",
    "\n",
    "        else:\n",
    "            print('This word doesnt have any collocations generated as the collocation type is invalid - ' + str(i) + ' ' + lemma + '_' + posTag + '_' + colTypeFileName + '+' + colType)\n",
    "\n",
    "print(strftime(\"%Y-%m-%d %H:%M:%S\", gmtime()))"
   ]
  }
 ],
 "metadata": {
  "kernelspec": {
   "display_name": "Python 3",
   "language": "python",
   "name": "python3"
  },
  "language_info": {
   "codemirror_mode": {
    "name": "ipython",
    "version": 3
   },
   "file_extension": ".py",
   "mimetype": "text/x-python",
   "name": "python",
   "nbconvert_exporter": "python",
   "pygments_lexer": "ipython3",
   "version": "3.6.4"
  }
 },
 "nbformat": 4,
 "nbformat_minor": 1
}
